{
 "cells": [
  {
   "cell_type": "markdown",
   "id": "15093b18",
   "metadata": {},
   "source": [
    "# Glossary"
   ]
  },
  {
   "cell_type": "markdown",
   "id": "825fcd75",
   "metadata": {},
   "source": [
    "This is a place to find the definitions for terms used throughout the lesson notebooks.\n",
    "\n",
    "If any definition is confusing or needs additional details, let us know through the #dagobah Slack channel or during office hours with your mentors!"
   ]
  },
  {
   "cell_type": "markdown",
   "id": "6a62035f",
   "metadata": {},
   "source": [
    "## Table of Contents"
   ]
  },
  {
   "cell_type": "markdown",
   "id": "b632438b",
   "metadata": {},
   "source": [
    "### PETs and Privacy\n",
    "\n",
    "1. The Cost of Privacy\n",
    "2. Data Privacy and Data Economics\n",
    "3. Privacy-Enhancing Technologies (PETs)\n",
    "4. Structured Transparency Framework"
   ]
  },
  {
   "cell_type": "markdown",
   "id": "18def13a",
   "metadata": {},
   "source": [
    "### PySyft\n",
    "\n",
    "5. Lifecycle of Data\n",
    "6. Introduction to Syft\n",
    "7. Deployment-Specific Architecture\n",
    "8. Dev Setup and Contributing\n",
    "9. Grid and HaGrid, Syft and PySyft"
   ]
  },
  {
   "cell_type": "markdown",
   "id": "ec2bff16",
   "metadata": {},
   "source": [
    "### <a id=\"cost-of-privacy\">The Cost of Privacy</a>"
   ]
  },
  {
   "cell_type": "markdown",
   "id": "5287f585",
   "metadata": {},
   "source": [
    "#### Privacy-Utility Tradeoff"
   ]
  },
  {
   "cell_type": "markdown",
   "id": "30166dfe",
   "metadata": {},
   "source": [
    "The tradeoff inherent in much of modern technology between protecting one's privacy and giving up that privacy to increase convenience and utility. Examples include letting YouTube track your viewing history to suggest more relevant videos to watch, and giving businesses your email or phone number to receive alerts and push notifications."
   ]
  },
  {
   "cell_type": "markdown",
   "id": "c9aa5033",
   "metadata": {},
   "source": [
    "#### Pareto Optimality"
   ]
  },
  {
   "cell_type": "markdown",
   "id": "5be91344",
   "metadata": {},
   "source": [
    "A situation in which no individual or preference criterion can be made better off without making at least one individual or preference criterion worse off. For example, you may opt to preserve your privacy by not creating an  account for a certain social media site, but this may come at the expense of missing out on news, videos, etc. shared by friends and other social groups."
   ]
  },
  {
   "cell_type": "markdown",
   "id": "18c223b2",
   "metadata": {},
   "source": [
    "### Data Privacy and Data Economics"
   ]
  },
  {
   "cell_type": "markdown",
   "id": "7cc8bc9d",
   "metadata": {},
   "source": [
    "#### Anonymization / De-Identification\n",
    "The removal or replacement (by fake data) of unique identifiers in a dataset. Processes like recononstruction attacks and data linkage prove that removing unique identifiers is often insufficient to guarantee data privacy.\n",
    "\n",
    "#### Data Reconstruction Attack\n",
    "A technique involving reidentifying data about someone that had previously been anonymized, given that there is other additional data about that person that's available. This involves using data linkage. Examples include taking anonymized data from the Netflix Prize, and using data available on IMDb to reidentify subjects in the Netflix data.\n",
    "\n",
    "#### Data Linkage\n",
    "Combining disparate sources of data to link individuals in two datasets. Data linkage is used in reconstruction attacks, such as when movie rating data in both the Netflix and IMDb datasets was used to reidentify individuals in the Netflix Prize data.\n",
    "\n",
    "#### Copy Problem\n",
    "The effect of copying data repeatedly making that data an infinitely deprecating asset. In other words, the more copies of that data that are available, the less valuable it becomes.\n",
    "\n",
    "#### Data Silo\n",
    "Data collected and held by an organization which that organization is unwilling to share because holding the data provides some strategic advantage, or because releasing it may incur legal costs, reputational damage, etc.\n",
    "\n",
    "#### Resource Barriers\n",
    "Policy decisions or bureaucratic hurdles that make the sharing or releasing of data (often intentionally) difficult."
   ]
  },
  {
   "cell_type": "markdown",
   "id": "094b20df",
   "metadata": {},
   "source": [
    "### <a id=\"pets\">Privacy-Enhancing Technologies (PETs)</a>\n",
    "\n",
    "The PETs listed here are organized according to which level of the structured transparency framework ([see next section](#structured-transparency-framework)) they address .\n",
    "\n",
    "#### 1. Input Privacy\n",
    "\n",
    "#### Homomorphic Encryption (HE)\n",
    "A process that uses public/private key cryptography on data in such a way that various mathematical operations are possible while maintaining the encrypted state of the data.\n",
    "\n",
    "#### Secure Multi-Party Computation (SMPC)\n",
    "A cryptographic technique similar to HE that allows multiple parties to collaboratively compute a function over their private inputs, without revealing anything besides the final result.\n",
    "\n",
    "#### 2. Input Verification\n",
    "\n",
    "#### Cryptographic Signature\n",
    "A cryptographic scheme for verifying the authenticity of a message or document. A common example is the HTTPS protocol.\n",
    "\n",
    "#### Zero-Knowledge Proof (ZKP)\n",
    "A method by which one party (the prover) can prove to another party (the verifier) that they know a value x, without conveying any information apart from the fact that they know the value x.\n",
    "\n",
    "#### 3. Output Privacy\n",
    "\n",
    "#### Differential Privacy (DP)\n",
    "A technique that adds noise to the output of any calculation in order to protect privacy. More specifically, it aims to prevent someone from knowing whether a particular individual's data is present in a dataset.\n",
    "\n",
    "##### Privacy Budget (𝜖)\n",
    "Used in differential privacy, 𝜖 is a measure of how much your data stands out, and therefore also a quantifiable measure of:\n",
    "* privacy risk\n",
    "* how likely it is that your data is going to be identified\n",
    "* How much your data affects the outcome of the query or algorithm\n",
    "* How much noise is needed to hide your data's influence\n",
    "\n",
    "#### Private Information Retrieval (PIR)\n",
    "A cryptographic protocol that allows a user to retrieve specific information from a database without revealing which information they are accessing. In other words, PIR enables private and anonymous querying of a database.\n",
    "\n",
    "#### 4. Output Verification\n",
    "\n",
    "#### Argument of Knowledge (SNARK or zk-SNARK)\n",
    "A SNARK is a specific type of Zero Knowledge Proof that focuses on proving that you know a specific secret without revealing any information about the secret itself (i.e. unlike a traditional ZKP, you aren't trying to prove the validity of a statement- just trying to prove that you know it). \"zk-SNARK\" is short for \"zero-knowledge succinct non-interactive arguments of knowledge\".\n",
    "\n",
    "#### Non-Interactive Proof of Work (NI-PoW)\n",
    "A cryptographic construct used to prove that a certain amount of computational effort has been expended without requiring any interaction or challenge from a verifier. In other words, it allows a party (the prover) to demonstrate that they have performed a significant amount of computational work without needing someone else (the verifier) to ask for proof or validate it in real-time."
   ]
  },
  {
   "cell_type": "markdown",
   "id": "ec379752",
   "metadata": {},
   "source": [
    "(structured-transparency-framework)=\n",
    "### Structured Transparency Framework\n",
    "\n",
    "The structured transparency framework is a system for breaking down the flow of information to figure out where different privacy-enhancing technologies are applicable. It consists of five guarantees:\n",
    "\n",
    "#### 1. Input Privacy\n",
    "A guarantee that one or more people can participate in a computation in such a way that no party learns anything about the other party's inputs to the computation.\n",
    "\n",
    "#### 2. Output Privacy\n",
    "Ensuring that certain subsets of information do not make it through the information flow, thus preventing data inputs from being reverse engineered.\n",
    "\n",
    "#### 3. Input Verification\n",
    "The ability for a user to verify that information received from a process or computation originates from trusted entities.\n",
    "\n",
    "#### 4. Output Verification\n",
    "The ability for a user to verify that the outputs from a hidden information flow contain the desired properties.\n",
    "\n",
    "#### 5. Flow Governance\n",
    "The control of information flows. This includes who is able to change the input and output privacy and verification guarantees."
   ]
  },
  {
   "cell_type": "markdown",
   "id": "36113675",
   "metadata": {},
   "source": [
    "### Lifecycle of Data"
   ]
  },
  {
   "cell_type": "markdown",
   "id": "63f1543a",
   "metadata": {},
   "source": [
    "**Lifecycle of Data**"
   ]
  },
  {
   "cell_type": "markdown",
   "id": "3c5239f6",
   "metadata": {},
   "source": [
    "The movement and usage of data from the data subject, to data owner, to data scientist"
   ]
  },
  {
   "cell_type": "markdown",
   "id": "4aafb1b4",
   "metadata": {},
   "source": [
    "**Data Subject**"
   ]
  },
  {
   "cell_type": "markdown",
   "id": "e06dff6a",
   "metadata": {},
   "source": [
    "The person described by data in a particular dataset"
   ]
  },
  {
   "cell_type": "markdown",
   "id": "91fb3f89",
   "metadata": {},
   "source": [
    "**Data Owner**"
   ]
  },
  {
   "cell_type": "markdown",
   "id": "8b627449",
   "metadata": {},
   "source": [
    "The collectors and controllers of data about data subjects. Examples include organizations such as Google or the United States Census Bureau."
   ]
  },
  {
   "cell_type": "markdown",
   "id": "2ee3f663",
   "metadata": {},
   "source": [
    "**Data Scientist**"
   ]
  },
  {
   "cell_type": "markdown",
   "id": "695ba5ac",
   "metadata": {},
   "source": [
    "Users of data who want to apply algorithms and processes to that data in order to extract insights and build products."
   ]
  },
  {
   "cell_type": "markdown",
   "id": "b239818f",
   "metadata": {},
   "source": [
    "**Trusted Curator**"
   ]
  },
  {
   "cell_type": "markdown",
   "id": "cae0b3f2",
   "metadata": {},
   "source": [
    "someone whom data subjects know have access to private data, but who is trusted to do data science responsibly."
   ]
  },
  {
   "cell_type": "markdown",
   "id": "8026d49b",
   "metadata": {},
   "source": [
    "### <a id=\"intro-to-syft\">Introduction to Syft</a>"
   ]
  },
  {
   "cell_type": "markdown",
   "id": "76d6c8bf",
   "metadata": {},
   "source": [
    "**Mailbox for Code**"
   ]
  },
  {
   "cell_type": "markdown",
   "id": "df43e226",
   "metadata": {},
   "source": [
    "A framework for thinking about PySyft in the context of the lifecycle of data. This framework consists of the following steps:\n",
    "\n",
    "**1.** A data scientist uses PySyft to submit their code to a data owner\n",
    "\n",
    "**2.** The data owner reviews the code for various requirements or best practices (privacy, legal requirements, etc.)\n",
    "\n",
    "**3.** If the data owner approves the code, it is executed on the dataset(s) and the results are returned to the data scientist through PySyft."
   ]
  },
  {
   "cell_type": "markdown",
   "id": "d2350e5f",
   "metadata": {},
   "source": [
    "**Domain** / **Domain Node** / **Domain Server**"
   ]
  },
  {
   "cell_type": "markdown",
   "id": "9b806737",
   "metadata": {},
   "source": [
    "A component in the PySyft application where a data owner can upload data and receive code requests for those uploaded datasets."
   ]
  },
  {
   "cell_type": "markdown",
   "id": "5b9b7e24",
   "metadata": {},
   "source": [
    "### <a id=\"deployment-architecture\">Deployment-Specific Architecture</a>"
   ]
  },
  {
   "cell_type": "markdown",
   "id": "bd3e9a7c",
   "metadata": {},
   "source": [
    "**In-Memory Client**"
   ]
  },
  {
   "cell_type": "markdown",
   "id": "64ed3db8",
   "metadata": {},
   "source": [
    "A lightweight deployment mode in which the domain node runs locally using a SQLite database as the main storage."
   ]
  },
  {
   "cell_type": "markdown",
   "id": "fd96011c",
   "metadata": {},
   "source": [
    "**Single Container Stack**"
   ]
  },
  {
   "cell_type": "markdown",
   "id": "05d8a5ed",
   "metadata": {},
   "source": [
    "A deployment mode in which PySyft and a lightweight database (e.g., SQLite) are included within a single container environment."
   ]
  },
  {
   "cell_type": "markdown",
   "id": "142112fb",
   "metadata": {},
   "source": [
    "**Full Container Stack**"
   ]
  },
  {
   "cell_type": "markdown",
   "id": "1c4c998c",
   "metadata": {},
   "source": [
    "A deployment mode that involves multiple containers for different components and services. This mode offers the most functionality, scalability, and isolation at the cost of additional resource requirements compared to the in-memory and single-container deployment modes."
   ]
  },
  {
   "cell_type": "markdown",
   "id": "72129094",
   "metadata": {},
   "source": [
    "The full container stack has the following docker containers:\n",
    "\n",
    "* Backend - contains Syft and corresponding logic to execute code in sync manner\n",
    "* Backend Stream - contains Syft and logic to queue message in RabbitMQ\n",
    "* Celery Worker - contains Syft and logic to execute message received from RabbitMQ\n",
    "* RabbitMQ - receives messages from Backend Stream and passes them into Celery Worker\n",
    "* Redis - each syft object has a UUID, and stored in Redis as a key/value pair\n",
    "* Mongo - Stores non-private metadata that are related to grid operation, such as RBAC or BLOBs metadata\n",
    "* SeaweedFS - Stores the BLOBs, compatible with Amazon S3 protocols\n",
    "* Tailscale - VPN instance containing the NAT and Firewall functionalities.\n",
    "* Headscale - Key managment server for VPN\n",
    "* Jaeger - distributed end-to-end tracing"
   ]
  },
  {
   "cell_type": "markdown",
   "id": "f666a02e",
   "metadata": {},
   "source": [
    "### Dev Setup and Contributing"
   ]
  },
  {
   "cell_type": "markdown",
   "id": "ed043806",
   "metadata": {},
   "source": [
    "**Tox**"
   ]
  },
  {
   "cell_type": "markdown",
   "id": "1a8a881b",
   "metadata": {},
   "source": [
    "A Python-based virtual environment management and test command line tool used in the PySyft codebase: https://tox.wiki/en/latest/"
   ]
  },
  {
   "cell_type": "markdown",
   "id": "c6b0f78c",
   "metadata": {},
   "source": [
    "**Linting**"
   ]
  },
  {
   "cell_type": "markdown",
   "id": "a5f648e4",
   "metadata": {},
   "source": [
    "An automated process used to discover problems in source code such as bugs and syntax errors."
   ]
  },
  {
   "cell_type": "markdown",
   "id": "4f86f866",
   "metadata": {},
   "source": [
    "**CI Test**"
   ]
  },
  {
   "cell_type": "markdown",
   "id": "4ee0490d",
   "metadata": {},
   "source": [
    "An automated \"continuous integration\" test that is meant to check whether a alteration or addition to the codebase will change or break any existing functionality."
   ]
  },
  {
   "cell_type": "markdown",
   "id": "d27c0030",
   "metadata": {},
   "source": [
    "### Grid and HaGrid, Syft and PySyft"
   ]
  },
  {
   "cell_type": "markdown",
   "id": "f2726eb0",
   "metadata": {},
   "source": [
    "**Grid**\n",
    "\n",
    "A component of the PySyft framework that handles the setup of the domain node that stores private data and lets data scientists submit code to it using the Syft API. Grid is predominantly used by Data Owners, or those handling Domain nodes. "
   ]
  },
  {
   "cell_type": "markdown",
   "id": "31d5d82b",
   "metadata": {},
   "source": [
    "**HaGrid**\n",
    "\n",
    "A CLI tool that enables users to more easily deploy and orchestrate Grid domain nodes and networks. \n",
    "\n",
    "_note_: HaGrid will soon be deprecated and replaced by a new Syft CLI tool."
   ]
  },
  {
   "cell_type": "markdown",
   "id": "767e710c",
   "metadata": {},
   "source": [
    "**Syft**\n",
    "\n",
    "The Python API used by the Data Scientist users to interact with the PySyft framework."
   ]
  },
  {
   "cell_type": "markdown",
   "id": "c0778cea",
   "metadata": {},
   "source": [
    "**PySyft**\n",
    "\n",
    "The entire library containing both Syft and Grid that enables remote data science via structured transparency."
   ]
  },
  {
   "cell_type": "markdown",
   "id": "bb47ad83",
   "metadata": {},
   "source": [
    "**Client**\n",
    "\n",
    "The part of the PySyft framework that allows a Data Scientist to write remote data science code that interacts with private data on the domain node."
   ]
  },
  {
   "cell_type": "markdown",
   "id": "8c31febd",
   "metadata": {},
   "source": [
    "**Server**\n",
    "\n",
    "Another name for _domain_ or _domain node_."
   ]
  },
  {
   "cell_type": "markdown",
   "id": "8b2d6ee5",
   "metadata": {},
   "source": [
    "_note_: \"client\" and \"server\" are especially useful terms when framing PySyft in the context of an internet for the world's private data: data scientists use clients to write code to interact with private data stored on servers."
   ]
  }
 ],
 "metadata": {
  "kernelspec": {
   "display_name": "Python 3 (ipykernel)",
   "language": "python",
   "name": "python3"
  },
  "language_info": {
   "codemirror_mode": {
    "name": "ipython",
    "version": 3
   },
   "file_extension": ".py",
   "mimetype": "text/x-python",
   "name": "python",
   "nbconvert_exporter": "python",
   "pygments_lexer": "ipython3",
   "version": "3.10.4"
  }
 },
 "nbformat": 4,
 "nbformat_minor": 5
}
