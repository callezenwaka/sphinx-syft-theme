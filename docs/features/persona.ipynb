{
 "cells": [
  {
   "cell_type": "markdown",
   "metadata": {},
   "source": [
    "# Persona in Syft Theme"
   ]
  },
  {
   "cell_type": "markdown",
   "metadata": {},
   "source": [
    "The Syft Theme is a [Sphinx Theme](https://www.sphinx-doc.org/en/master/usage/theming.html)\n",
    "that inherits directly from the [Sphinx Book Theme](https://sphinx-book-theme.readthedocs.io/en/latest/)\n",
    "used by the amazing [Jupyter Book project](https://jupyterbook.org/intro.html).  As a result, the\n",
    "Sphinx Syft Theme, through the Sphinx Book Theme, inherits from the awesome\n",
    "[PyData Sphinx Theme](https://pydata-sphinx-theme.readthedocs.io/en/latest/),\n",
    "which provides a great deal of functionality."
   ]
  },
  {
   "cell_type": "markdown",
   "metadata": {},
   "source": [
    "## Persona Introduction\n",
    "\n",
    "This is a Jupyter Book example with persona. Below are what changed:\n",
    "\n",
    "```\n",
    "sphinx:\n",
    "  config:\n",
    "    html_theme: sphinx_syft_theme\n",
    "    html_theme_options:\n",
    "      github_url: https://github.com/callezenwaka/syft-theme\n",
    "      twitter_url: https://twitter.com/callezenwaka\n",
    "      repository_url: https://github.com/callezenwaka/syft-theme\n",
    "      custom_image_paths:\n",
    "        - \"/_static/images/alice.svg\"\n",
    "        - \"/_static/images/bob.svg\"\n",
    "      custom_shortcode_to_image:\n",
    "        \"|:persona_alice:|\": \"/_static/images/alice.svg\"\n",
    "        \"|:persona_bob:|\": \"/_static/images/bob.svg\"\n",
    "```"
   ]
  },
  {
   "cell_type": "markdown",
   "metadata": {},
   "source": [
    "## Persona Usage\n",
    "\n",
    "Below is how to apply code to headers:\n",
    "\n",
    "```\n",
    "## |:persona_alice:| Alice Custom Symoji\n",
    "```"
   ]
  },
  {
   "cell_type": "markdown",
   "metadata": {},
   "source": [
    "## |:persona_alice:| Alice Custom Symoji\n",
    "<!-- ## Alice Custom Symoji -->\n",
    "\n",
    "On top of all of these amazing themes, the Sphinx Syft theme add a few simple new custom features like OpenMined Symoji."
   ]
  },
  {
   "cell_type": "markdown",
   "metadata": {},
   "source": [
    "## |:persona_bob:| Bob Custom Symoji\n",
    "<!-- ## Bob Custom Symoji -->\n",
    "\n",
    "On top of all of these amazing themes, the Sphinx Syft theme add a few simple new custom features like OpenMined Symoji."
   ]
  },
  {
   "cell_type": "markdown",
   "metadata": {},
   "source": [
    "## |:persona_chloe:| Chloe Custom Symoji\n",
    "<!-- ## Chloe Custom Symoji -->\n",
    "\n",
    "On top of all of these amazing themes, the Sphinx Syft theme add a few simple new custom features like OpenMined Symoji."
   ]
  },
  {
   "cell_type": "markdown",
   "metadata": {},
   "source": [
    "## Top Navigation Bar\n",
    "\n",
    "The Sphinx Syft Theme brings back the fixed top navigation bar provided by the PyData Sphinx Theme.\n",
    "Where the Sphinx Book Theme places your ```html_logo``` at the top of the left sidebar, the PyData Sphinx Theme places the logo on the left of the top navigation bar.  The PyData Sphinx Theme allows the user to set the link attached to the logo with the ```logo_link``` option in your Sphinx ```html_theme_options``` dictionary.\n"
   ]
  }
 ],
 "metadata": {
  "language_info": {
   "name": "python"
  }
 },
 "nbformat": 4,
 "nbformat_minor": 2
}
